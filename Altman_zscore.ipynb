{
  "nbformat": 4,
  "nbformat_minor": 0,
  "metadata": {
    "colab": {
      "name": "Altman_zscore.ipynb",
      "provenance": []
    },
    "kernelspec": {
      "name": "python3",
      "display_name": "Python 3"
    },
    "language_info": {
      "name": "python"
    }
  },
  "cells": [
    {
      "cell_type": "code",
      "execution_count": null,
      "metadata": {
        "id": "tFQzNKrG8t7s"
      },
      "outputs": [],
      "source": [
        "pip install yahoo-fin"
      ]
    },
    {
      "cell_type": "code",
      "source": [
        "pip install FinRatioAnalysis"
      ],
      "metadata": {
        "id": "pHWl3iEh8_gg"
      },
      "execution_count": null,
      "outputs": []
    },
    {
      "cell_type": "code",
      "source": [
        "pip install investpy"
      ],
      "metadata": {
        "id": "odioexHmkpzC"
      },
      "execution_count": null,
      "outputs": []
    },
    {
      "cell_type": "code",
      "source": [
        "from FinRatioAnalysis import FinRatioAnalysis\n",
        "import os\n",
        "import pandas as pd\n",
        "import numpy as np\n",
        "import yahoo_fin.stock_info as si\n",
        "import investpy as ip"
      ],
      "metadata": {
        "id": "F8IuSy029F_w"
      },
      "execution_count": 4,
      "outputs": []
    },
    {
      "cell_type": "code",
      "source": [
        "ticker = 'IBM' "
      ],
      "metadata": {
        "id": "-R43tBUn_AOR"
      },
      "execution_count": 5,
      "outputs": []
    },
    {
      "cell_type": "code",
      "source": [
        "ra = FinRatioAnalysis(ticker)"
      ],
      "metadata": {
        "id": "7weHsumF9Vx4"
      },
      "execution_count": 6,
      "outputs": []
    },
    {
      "cell_type": "code",
      "source": [
        "balance_sheet = ra.BalanceSheet.transpose()\n",
        "balance_sheet"
      ],
      "metadata": {
        "colab": {
          "base_uri": "https://localhost:8080/",
          "height": 340
        },
        "id": "Sfu09PQMdT_d",
        "outputId": "07826bc0-3495-4bc9-a494-7e4407cbac36"
      },
      "execution_count": 7,
      "outputs": [
        {
          "output_type": "execute_result",
          "data": {
            "text/html": [
              "\n",
              "  <div id=\"df-64bcfaf0-dd5d-4baf-b5dc-84bca325e96b\">\n",
              "    <div class=\"colab-df-container\">\n",
              "      <div>\n",
              "<style scoped>\n",
              "    .dataframe tbody tr th:only-of-type {\n",
              "        vertical-align: middle;\n",
              "    }\n",
              "\n",
              "    .dataframe tbody tr th {\n",
              "        vertical-align: top;\n",
              "    }\n",
              "\n",
              "    .dataframe thead th {\n",
              "        text-align: right;\n",
              "    }\n",
              "</style>\n",
              "<table border=\"1\" class=\"dataframe\">\n",
              "  <thead>\n",
              "    <tr style=\"text-align: right;\">\n",
              "      <th>Breakdown</th>\n",
              "      <th>intangibleAssets</th>\n",
              "      <th>totalLiab</th>\n",
              "      <th>totalStockholderEquity</th>\n",
              "      <th>minorityInterest</th>\n",
              "      <th>deferredLongTermLiab</th>\n",
              "      <th>otherCurrentLiab</th>\n",
              "      <th>totalAssets</th>\n",
              "      <th>commonStock</th>\n",
              "      <th>otherCurrentAssets</th>\n",
              "      <th>retainedEarnings</th>\n",
              "      <th>otherLiab</th>\n",
              "      <th>goodWill</th>\n",
              "      <th>treasuryStock</th>\n",
              "      <th>otherAssets</th>\n",
              "      <th>cash</th>\n",
              "      <th>totalCurrentLiabilities</th>\n",
              "      <th>deferredLongTermAssetCharges</th>\n",
              "      <th>otherStockholderEquity</th>\n",
              "      <th>propertyPlantEquipment</th>\n",
              "      <th>totalCurrentAssets</th>\n",
              "      <th>longTermInvestments</th>\n",
              "      <th>netTangibleAssets</th>\n",
              "      <th>shortTermInvestments</th>\n",
              "      <th>netReceivables</th>\n",
              "      <th>longTermDebt</th>\n",
              "      <th>inventory</th>\n",
              "      <th>accountsPayable</th>\n",
              "      <th>shortLongTermDebt</th>\n",
              "    </tr>\n",
              "    <tr>\n",
              "      <th>endDate</th>\n",
              "      <th></th>\n",
              "      <th></th>\n",
              "      <th></th>\n",
              "      <th></th>\n",
              "      <th></th>\n",
              "      <th></th>\n",
              "      <th></th>\n",
              "      <th></th>\n",
              "      <th></th>\n",
              "      <th></th>\n",
              "      <th></th>\n",
              "      <th></th>\n",
              "      <th></th>\n",
              "      <th></th>\n",
              "      <th></th>\n",
              "      <th></th>\n",
              "      <th></th>\n",
              "      <th></th>\n",
              "      <th></th>\n",
              "      <th></th>\n",
              "      <th></th>\n",
              "      <th></th>\n",
              "      <th></th>\n",
              "      <th></th>\n",
              "      <th></th>\n",
              "      <th></th>\n",
              "      <th></th>\n",
              "      <th></th>\n",
              "    </tr>\n",
              "  </thead>\n",
              "  <tbody>\n",
              "    <tr>\n",
              "      <th>2021-12-31</th>\n",
              "      <td>1.251100e+10</td>\n",
              "      <td>1.130050e+11</td>\n",
              "      <td>1.890100e+10</td>\n",
              "      <td>95000000.0</td>\n",
              "      <td>9.240000e+08</td>\n",
              "      <td>2.190300e+10</td>\n",
              "      <td>1.320010e+11</td>\n",
              "      <td>5.731900e+10</td>\n",
              "      <td>1.404000e+09</td>\n",
              "      <td>1.542090e+11</td>\n",
              "      <td>3.200700e+10</td>\n",
              "      <td>5.564300e+10</td>\n",
              "      <td>-1.926270e+11</td>\n",
              "      <td>1.814400e+10</td>\n",
              "      <td>6.650000e+09</td>\n",
              "      <td>3.361900e+10</td>\n",
              "      <td>7.370000e+09</td>\n",
              "      <td>-2.323500e+10</td>\n",
              "      <td>8.916000e+09</td>\n",
              "      <td>2.953900e+10</td>\n",
              "      <td>1.823000e+09</td>\n",
              "      <td>-4.925300e+10</td>\n",
              "      <td>600000000.0</td>\n",
              "      <td>7.756000e+09</td>\n",
              "      <td>4.491700e+10</td>\n",
              "      <td>1.649000e+09</td>\n",
              "      <td>3.955000e+09</td>\n",
              "      <td>NaN</td>\n",
              "    </tr>\n",
              "    <tr>\n",
              "      <th>2020-12-31</th>\n",
              "      <td>1.379600e+10</td>\n",
              "      <td>1.352450e+11</td>\n",
              "      <td>2.059700e+10</td>\n",
              "      <td>129000000.0</td>\n",
              "      <td>2.449000e+09</td>\n",
              "      <td>1.692500e+10</td>\n",
              "      <td>1.559710e+11</td>\n",
              "      <td>5.655600e+10</td>\n",
              "      <td>2.655000e+09</td>\n",
              "      <td>1.627170e+11</td>\n",
              "      <td>3.744700e+10</td>\n",
              "      <td>5.961700e+10</td>\n",
              "      <td>-1.986760e+11</td>\n",
              "      <td>2.135500e+10</td>\n",
              "      <td>1.321200e+10</td>\n",
              "      <td>3.986900e+10</td>\n",
              "      <td>9.241000e+09</td>\n",
              "      <td>-2.933700e+10</td>\n",
              "      <td>1.472600e+10</td>\n",
              "      <td>3.916500e+10</td>\n",
              "      <td>2.260000e+08</td>\n",
              "      <td>-5.281600e+10</td>\n",
              "      <td>600000000.0</td>\n",
              "      <td>8.343000e+09</td>\n",
              "      <td>5.415600e+10</td>\n",
              "      <td>1.839000e+09</td>\n",
              "      <td>4.908000e+09</td>\n",
              "      <td>6.956000e+09</td>\n",
              "    </tr>\n",
              "    <tr>\n",
              "      <th>2019-12-31</th>\n",
              "      <td>1.523500e+10</td>\n",
              "      <td>1.312010e+11</td>\n",
              "      <td>2.084100e+10</td>\n",
              "      <td>144000000.0</td>\n",
              "      <td>2.472000e+09</td>\n",
              "      <td>1.525900e+10</td>\n",
              "      <td>1.521860e+11</td>\n",
              "      <td>5.589500e+10</td>\n",
              "      <td>2.212000e+09</td>\n",
              "      <td>1.629540e+11</td>\n",
              "      <td>3.551900e+10</td>\n",
              "      <td>5.822200e+10</td>\n",
              "      <td>-1.980080e+11</td>\n",
              "      <td>1.636900e+10</td>\n",
              "      <td>8.172000e+09</td>\n",
              "      <td>3.770100e+10</td>\n",
              "      <td>5.182000e+09</td>\n",
              "      <td>-2.859500e+10</td>\n",
              "      <td>1.500600e+10</td>\n",
              "      <td>3.842000e+10</td>\n",
              "      <td>2.220000e+08</td>\n",
              "      <td>-5.261600e+10</td>\n",
              "      <td>696000000.0</td>\n",
              "      <td>1.006900e+10</td>\n",
              "      <td>5.395100e+10</td>\n",
              "      <td>1.619000e+09</td>\n",
              "      <td>4.896000e+09</td>\n",
              "      <td>7.470000e+09</td>\n",
              "    </tr>\n",
              "    <tr>\n",
              "      <th>2018-12-31</th>\n",
              "      <td>3.087000e+09</td>\n",
              "      <td>1.064520e+11</td>\n",
              "      <td>1.679600e+10</td>\n",
              "      <td>134000000.0</td>\n",
              "      <td>2.676000e+09</td>\n",
              "      <td>1.465900e+10</td>\n",
              "      <td>1.233820e+11</td>\n",
              "      <td>5.515100e+10</td>\n",
              "      <td>2.911000e+09</td>\n",
              "      <td>1.592060e+11</td>\n",
              "      <td>3.262000e+10</td>\n",
              "      <td>3.626500e+10</td>\n",
              "      <td>-1.975610e+11</td>\n",
              "      <td>1.471800e+10</td>\n",
              "      <td>1.137900e+10</td>\n",
              "      <td>3.822700e+10</td>\n",
              "      <td>5.216000e+09</td>\n",
              "      <td>-2.949000e+10</td>\n",
              "      <td>1.079200e+10</td>\n",
              "      <td>4.914600e+10</td>\n",
              "      <td>2.260000e+08</td>\n",
              "      <td>-2.255600e+10</td>\n",
              "      <td>618000000.0</td>\n",
              "      <td>8.645000e+09</td>\n",
              "      <td>3.556700e+10</td>\n",
              "      <td>1.682000e+09</td>\n",
              "      <td>6.558000e+09</td>\n",
              "      <td>7.048000e+09</td>\n",
              "    </tr>\n",
              "  </tbody>\n",
              "</table>\n",
              "</div>\n",
              "      <button class=\"colab-df-convert\" onclick=\"convertToInteractive('df-64bcfaf0-dd5d-4baf-b5dc-84bca325e96b')\"\n",
              "              title=\"Convert this dataframe to an interactive table.\"\n",
              "              style=\"display:none;\">\n",
              "        \n",
              "  <svg xmlns=\"http://www.w3.org/2000/svg\" height=\"24px\"viewBox=\"0 0 24 24\"\n",
              "       width=\"24px\">\n",
              "    <path d=\"M0 0h24v24H0V0z\" fill=\"none\"/>\n",
              "    <path d=\"M18.56 5.44l.94 2.06.94-2.06 2.06-.94-2.06-.94-.94-2.06-.94 2.06-2.06.94zm-11 1L8.5 8.5l.94-2.06 2.06-.94-2.06-.94L8.5 2.5l-.94 2.06-2.06.94zm10 10l.94 2.06.94-2.06 2.06-.94-2.06-.94-.94-2.06-.94 2.06-2.06.94z\"/><path d=\"M17.41 7.96l-1.37-1.37c-.4-.4-.92-.59-1.43-.59-.52 0-1.04.2-1.43.59L10.3 9.45l-7.72 7.72c-.78.78-.78 2.05 0 2.83L4 21.41c.39.39.9.59 1.41.59.51 0 1.02-.2 1.41-.59l7.78-7.78 2.81-2.81c.8-.78.8-2.07 0-2.86zM5.41 20L4 18.59l7.72-7.72 1.47 1.35L5.41 20z\"/>\n",
              "  </svg>\n",
              "      </button>\n",
              "      \n",
              "  <style>\n",
              "    .colab-df-container {\n",
              "      display:flex;\n",
              "      flex-wrap:wrap;\n",
              "      gap: 12px;\n",
              "    }\n",
              "\n",
              "    .colab-df-convert {\n",
              "      background-color: #E8F0FE;\n",
              "      border: none;\n",
              "      border-radius: 50%;\n",
              "      cursor: pointer;\n",
              "      display: none;\n",
              "      fill: #1967D2;\n",
              "      height: 32px;\n",
              "      padding: 0 0 0 0;\n",
              "      width: 32px;\n",
              "    }\n",
              "\n",
              "    .colab-df-convert:hover {\n",
              "      background-color: #E2EBFA;\n",
              "      box-shadow: 0px 1px 2px rgba(60, 64, 67, 0.3), 0px 1px 3px 1px rgba(60, 64, 67, 0.15);\n",
              "      fill: #174EA6;\n",
              "    }\n",
              "\n",
              "    [theme=dark] .colab-df-convert {\n",
              "      background-color: #3B4455;\n",
              "      fill: #D2E3FC;\n",
              "    }\n",
              "\n",
              "    [theme=dark] .colab-df-convert:hover {\n",
              "      background-color: #434B5C;\n",
              "      box-shadow: 0px 1px 3px 1px rgba(0, 0, 0, 0.15);\n",
              "      filter: drop-shadow(0px 1px 2px rgba(0, 0, 0, 0.3));\n",
              "      fill: #FFFFFF;\n",
              "    }\n",
              "  </style>\n",
              "\n",
              "      <script>\n",
              "        const buttonEl =\n",
              "          document.querySelector('#df-64bcfaf0-dd5d-4baf-b5dc-84bca325e96b button.colab-df-convert');\n",
              "        buttonEl.style.display =\n",
              "          google.colab.kernel.accessAllowed ? 'block' : 'none';\n",
              "\n",
              "        async function convertToInteractive(key) {\n",
              "          const element = document.querySelector('#df-64bcfaf0-dd5d-4baf-b5dc-84bca325e96b');\n",
              "          const dataTable =\n",
              "            await google.colab.kernel.invokeFunction('convertToInteractive',\n",
              "                                                     [key], {});\n",
              "          if (!dataTable) return;\n",
              "\n",
              "          const docLinkHtml = 'Like what you see? Visit the ' +\n",
              "            '<a target=\"_blank\" href=https://colab.research.google.com/notebooks/data_table.ipynb>data table notebook</a>'\n",
              "            + ' to learn more about interactive tables.';\n",
              "          element.innerHTML = '';\n",
              "          dataTable['output_type'] = 'display_data';\n",
              "          await google.colab.output.renderOutput(dataTable, element);\n",
              "          const docLink = document.createElement('div');\n",
              "          docLink.innerHTML = docLinkHtml;\n",
              "          element.appendChild(docLink);\n",
              "        }\n",
              "      </script>\n",
              "    </div>\n",
              "  </div>\n",
              "  "
            ],
            "text/plain": [
              "Breakdown   intangibleAssets     totalLiab  ...  accountsPayable  shortLongTermDebt\n",
              "endDate                                     ...                                    \n",
              "2021-12-31      1.251100e+10  1.130050e+11  ...     3.955000e+09                NaN\n",
              "2020-12-31      1.379600e+10  1.352450e+11  ...     4.908000e+09       6.956000e+09\n",
              "2019-12-31      1.523500e+10  1.312010e+11  ...     4.896000e+09       7.470000e+09\n",
              "2018-12-31      3.087000e+09  1.064520e+11  ...     6.558000e+09       7.048000e+09\n",
              "\n",
              "[4 rows x 28 columns]"
            ]
          },
          "metadata": {},
          "execution_count": 7
        }
      ]
    },
    {
      "cell_type": "code",
      "source": [
        "income_statement = ra.IncomeSatement.transpose()\n",
        "income_statement"
      ],
      "metadata": {
        "colab": {
          "base_uri": "https://localhost:8080/",
          "height": 340
        },
        "id": "JqzLXITtd4O9",
        "outputId": "c6397350-c4cb-4e41-a60c-907b693dc04c"
      },
      "execution_count": 8,
      "outputs": [
        {
          "output_type": "execute_result",
          "data": {
            "text/html": [
              "\n",
              "  <div id=\"df-66c2e5f3-41e0-42dd-8dd0-278c96ea59db\">\n",
              "    <div class=\"colab-df-container\">\n",
              "      <div>\n",
              "<style scoped>\n",
              "    .dataframe tbody tr th:only-of-type {\n",
              "        vertical-align: middle;\n",
              "    }\n",
              "\n",
              "    .dataframe tbody tr th {\n",
              "        vertical-align: top;\n",
              "    }\n",
              "\n",
              "    .dataframe thead th {\n",
              "        text-align: right;\n",
              "    }\n",
              "</style>\n",
              "<table border=\"1\" class=\"dataframe\">\n",
              "  <thead>\n",
              "    <tr style=\"text-align: right;\">\n",
              "      <th>Breakdown</th>\n",
              "      <th>researchDevelopment</th>\n",
              "      <th>effectOfAccountingCharges</th>\n",
              "      <th>incomeBeforeTax</th>\n",
              "      <th>minorityInterest</th>\n",
              "      <th>netIncome</th>\n",
              "      <th>sellingGeneralAdministrative</th>\n",
              "      <th>grossProfit</th>\n",
              "      <th>ebit</th>\n",
              "      <th>operatingIncome</th>\n",
              "      <th>otherOperatingExpenses</th>\n",
              "      <th>interestExpense</th>\n",
              "      <th>extraordinaryItems</th>\n",
              "      <th>nonRecurring</th>\n",
              "      <th>otherItems</th>\n",
              "      <th>incomeTaxExpense</th>\n",
              "      <th>totalRevenue</th>\n",
              "      <th>totalOperatingExpenses</th>\n",
              "      <th>costOfRevenue</th>\n",
              "      <th>totalOtherIncomeExpenseNet</th>\n",
              "      <th>discontinuedOperations</th>\n",
              "      <th>netIncomeFromContinuingOps</th>\n",
              "      <th>netIncomeApplicableToCommonShares</th>\n",
              "    </tr>\n",
              "    <tr>\n",
              "      <th>endDate</th>\n",
              "      <th></th>\n",
              "      <th></th>\n",
              "      <th></th>\n",
              "      <th></th>\n",
              "      <th></th>\n",
              "      <th></th>\n",
              "      <th></th>\n",
              "      <th></th>\n",
              "      <th></th>\n",
              "      <th></th>\n",
              "      <th></th>\n",
              "      <th></th>\n",
              "      <th></th>\n",
              "      <th></th>\n",
              "      <th></th>\n",
              "      <th></th>\n",
              "      <th></th>\n",
              "      <th></th>\n",
              "      <th></th>\n",
              "      <th></th>\n",
              "      <th></th>\n",
              "      <th></th>\n",
              "    </tr>\n",
              "  </thead>\n",
              "  <tbody>\n",
              "    <tr>\n",
              "      <th>2021-12-31</th>\n",
              "      <td>6488000000</td>\n",
              "      <td>None</td>\n",
              "      <td>4837000000</td>\n",
              "      <td>95000000</td>\n",
              "      <td>5743000000</td>\n",
              "      <td>20027000000</td>\n",
              "      <td>31486000000</td>\n",
              "      <td>5583000000</td>\n",
              "      <td>5583000000</td>\n",
              "      <td>-612000000</td>\n",
              "      <td>-1155000000</td>\n",
              "      <td>None</td>\n",
              "      <td>None</td>\n",
              "      <td>None</td>\n",
              "      <td>124000000</td>\n",
              "      <td>57350000000</td>\n",
              "      <td>51767000000</td>\n",
              "      <td>25864000000</td>\n",
              "      <td>-746000000</td>\n",
              "      <td>1030000000</td>\n",
              "      <td>4713000000</td>\n",
              "      <td>5743000000</td>\n",
              "    </tr>\n",
              "    <tr>\n",
              "      <th>2020-12-31</th>\n",
              "      <td>6333000000</td>\n",
              "      <td>None</td>\n",
              "      <td>4637000000</td>\n",
              "      <td>129000000</td>\n",
              "      <td>5590000000</td>\n",
              "      <td>21242000000</td>\n",
              "      <td>35575000000</td>\n",
              "      <td>8584000000</td>\n",
              "      <td>8584000000</td>\n",
              "      <td>-584000000</td>\n",
              "      <td>-1288000000</td>\n",
              "      <td>None</td>\n",
              "      <td>None</td>\n",
              "      <td>None</td>\n",
              "      <td>-864000000</td>\n",
              "      <td>73621000000</td>\n",
              "      <td>65037000000</td>\n",
              "      <td>38046000000</td>\n",
              "      <td>-3947000000</td>\n",
              "      <td>89000000</td>\n",
              "      <td>5501000000</td>\n",
              "      <td>5590000000</td>\n",
              "    </tr>\n",
              "    <tr>\n",
              "      <th>2019-12-31</th>\n",
              "      <td>5936000000</td>\n",
              "      <td>None</td>\n",
              "      <td>10166000000</td>\n",
              "      <td>144000000</td>\n",
              "      <td>9431000000</td>\n",
              "      <td>20382000000</td>\n",
              "      <td>36489000000</td>\n",
              "      <td>10785000000</td>\n",
              "      <td>10785000000</td>\n",
              "      <td>-614000000</td>\n",
              "      <td>-1344000000</td>\n",
              "      <td>None</td>\n",
              "      <td>None</td>\n",
              "      <td>None</td>\n",
              "      <td>731000000</td>\n",
              "      <td>77147000000</td>\n",
              "      <td>66362000000</td>\n",
              "      <td>40658000000</td>\n",
              "      <td>-619000000</td>\n",
              "      <td>-4000000</td>\n",
              "      <td>9435000000</td>\n",
              "      <td>9431000000</td>\n",
              "    </tr>\n",
              "    <tr>\n",
              "      <th>2018-12-31</th>\n",
              "      <td>5379000000</td>\n",
              "      <td>None</td>\n",
              "      <td>11342000000</td>\n",
              "      <td>134000000</td>\n",
              "      <td>8728000000</td>\n",
              "      <td>19366000000</td>\n",
              "      <td>36937000000</td>\n",
              "      <td>13218000000</td>\n",
              "      <td>13218000000</td>\n",
              "      <td>-1026000000</td>\n",
              "      <td>-723000000</td>\n",
              "      <td>None</td>\n",
              "      <td>None</td>\n",
              "      <td>None</td>\n",
              "      <td>2619000000</td>\n",
              "      <td>79591000000</td>\n",
              "      <td>66373000000</td>\n",
              "      <td>42654000000</td>\n",
              "      <td>-1876000000</td>\n",
              "      <td>5000000</td>\n",
              "      <td>8723000000</td>\n",
              "      <td>8728000000</td>\n",
              "    </tr>\n",
              "  </tbody>\n",
              "</table>\n",
              "</div>\n",
              "      <button class=\"colab-df-convert\" onclick=\"convertToInteractive('df-66c2e5f3-41e0-42dd-8dd0-278c96ea59db')\"\n",
              "              title=\"Convert this dataframe to an interactive table.\"\n",
              "              style=\"display:none;\">\n",
              "        \n",
              "  <svg xmlns=\"http://www.w3.org/2000/svg\" height=\"24px\"viewBox=\"0 0 24 24\"\n",
              "       width=\"24px\">\n",
              "    <path d=\"M0 0h24v24H0V0z\" fill=\"none\"/>\n",
              "    <path d=\"M18.56 5.44l.94 2.06.94-2.06 2.06-.94-2.06-.94-.94-2.06-.94 2.06-2.06.94zm-11 1L8.5 8.5l.94-2.06 2.06-.94-2.06-.94L8.5 2.5l-.94 2.06-2.06.94zm10 10l.94 2.06.94-2.06 2.06-.94-2.06-.94-.94-2.06-.94 2.06-2.06.94z\"/><path d=\"M17.41 7.96l-1.37-1.37c-.4-.4-.92-.59-1.43-.59-.52 0-1.04.2-1.43.59L10.3 9.45l-7.72 7.72c-.78.78-.78 2.05 0 2.83L4 21.41c.39.39.9.59 1.41.59.51 0 1.02-.2 1.41-.59l7.78-7.78 2.81-2.81c.8-.78.8-2.07 0-2.86zM5.41 20L4 18.59l7.72-7.72 1.47 1.35L5.41 20z\"/>\n",
              "  </svg>\n",
              "      </button>\n",
              "      \n",
              "  <style>\n",
              "    .colab-df-container {\n",
              "      display:flex;\n",
              "      flex-wrap:wrap;\n",
              "      gap: 12px;\n",
              "    }\n",
              "\n",
              "    .colab-df-convert {\n",
              "      background-color: #E8F0FE;\n",
              "      border: none;\n",
              "      border-radius: 50%;\n",
              "      cursor: pointer;\n",
              "      display: none;\n",
              "      fill: #1967D2;\n",
              "      height: 32px;\n",
              "      padding: 0 0 0 0;\n",
              "      width: 32px;\n",
              "    }\n",
              "\n",
              "    .colab-df-convert:hover {\n",
              "      background-color: #E2EBFA;\n",
              "      box-shadow: 0px 1px 2px rgba(60, 64, 67, 0.3), 0px 1px 3px 1px rgba(60, 64, 67, 0.15);\n",
              "      fill: #174EA6;\n",
              "    }\n",
              "\n",
              "    [theme=dark] .colab-df-convert {\n",
              "      background-color: #3B4455;\n",
              "      fill: #D2E3FC;\n",
              "    }\n",
              "\n",
              "    [theme=dark] .colab-df-convert:hover {\n",
              "      background-color: #434B5C;\n",
              "      box-shadow: 0px 1px 3px 1px rgba(0, 0, 0, 0.15);\n",
              "      filter: drop-shadow(0px 1px 2px rgba(0, 0, 0, 0.3));\n",
              "      fill: #FFFFFF;\n",
              "    }\n",
              "  </style>\n",
              "\n",
              "      <script>\n",
              "        const buttonEl =\n",
              "          document.querySelector('#df-66c2e5f3-41e0-42dd-8dd0-278c96ea59db button.colab-df-convert');\n",
              "        buttonEl.style.display =\n",
              "          google.colab.kernel.accessAllowed ? 'block' : 'none';\n",
              "\n",
              "        async function convertToInteractive(key) {\n",
              "          const element = document.querySelector('#df-66c2e5f3-41e0-42dd-8dd0-278c96ea59db');\n",
              "          const dataTable =\n",
              "            await google.colab.kernel.invokeFunction('convertToInteractive',\n",
              "                                                     [key], {});\n",
              "          if (!dataTable) return;\n",
              "\n",
              "          const docLinkHtml = 'Like what you see? Visit the ' +\n",
              "            '<a target=\"_blank\" href=https://colab.research.google.com/notebooks/data_table.ipynb>data table notebook</a>'\n",
              "            + ' to learn more about interactive tables.';\n",
              "          element.innerHTML = '';\n",
              "          dataTable['output_type'] = 'display_data';\n",
              "          await google.colab.output.renderOutput(dataTable, element);\n",
              "          const docLink = document.createElement('div');\n",
              "          docLink.innerHTML = docLinkHtml;\n",
              "          element.appendChild(docLink);\n",
              "        }\n",
              "      </script>\n",
              "    </div>\n",
              "  </div>\n",
              "  "
            ],
            "text/plain": [
              "Breakdown  researchDevelopment  ... netIncomeApplicableToCommonShares\n",
              "endDate                         ...                                  \n",
              "2021-12-31          6488000000  ...                        5743000000\n",
              "2020-12-31          6333000000  ...                        5590000000\n",
              "2019-12-31          5936000000  ...                        9431000000\n",
              "2018-12-31          5379000000  ...                        8728000000\n",
              "\n",
              "[4 rows x 22 columns]"
            ]
          },
          "metadata": {},
          "execution_count": 8
        }
      ]
    },
    {
      "cell_type": "code",
      "source": [
        "search_result = ip.search_quotes(text= ticker, products=['stocks'],\n",
        "                                       countries=['united states'], n_results=1)\n",
        "print(search_result)"
      ],
      "metadata": {
        "colab": {
          "base_uri": "https://localhost:8080/"
        },
        "id": "gZ1FGKiLqH82",
        "outputId": "c5c07a8d-8bf5-402b-a23a-31016494aea2"
      },
      "execution_count": 9,
      "outputs": [
        {
          "output_type": "stream",
          "name": "stdout",
          "text": [
            "{\"id_\": 8082, \"name\": \"International Business Machines\", \"symbol\": \"IBM\", \"country\": \"united states\", \"tag\": \"/equities/ibm\", \"pair_type\": \"stocks\", \"exchange\": \"NYSE\"}\n"
          ]
        }
      ]
    },
    {
      "cell_type": "markdown",
      "source": [
        "**X_1**"
      ],
      "metadata": {
        "id": "i6Z12o57Nnsr"
      }
    },
    {
      "cell_type": "code",
      "source": [
        "work_cap = np.subtract(balance_sheet.totalCurrentAssets, \n",
        "                       balance_sheet.totalCurrentLiabilities)\n",
        "x_1 = np.divide(work_cap, balance_sheet.totalAssets)\n",
        "X_1 = x_1.iloc[0,]\n",
        "X_1"
      ],
      "metadata": {
        "colab": {
          "base_uri": "https://localhost:8080/"
        },
        "id": "EqcO5sa8JDM5",
        "outputId": "ae0c37aa-9b34-4364-b2be-d1b309341f1a"
      },
      "execution_count": 10,
      "outputs": [
        {
          "output_type": "execute_result",
          "data": {
            "text/plain": [
              "-0.03090885675108522"
            ]
          },
          "metadata": {},
          "execution_count": 10
        }
      ]
    },
    {
      "cell_type": "markdown",
      "source": [
        "**X_2**"
      ],
      "metadata": {
        "id": "Xj5WwG-WPEfG"
      }
    },
    {
      "cell_type": "code",
      "source": [
        "X_2 =  np.divide(balance_sheet.retainedEarnings, \n",
        "                 balance_sheet.totalAssets)\n",
        "X_2 = X_2.iloc[0,]\n",
        "X_2"
      ],
      "metadata": {
        "colab": {
          "base_uri": "https://localhost:8080/"
        },
        "id": "580JoJ_-NvQV",
        "outputId": "65648335-0f5d-49ef-98ef-c9c0d341a66a"
      },
      "execution_count": 11,
      "outputs": [
        {
          "output_type": "execute_result",
          "data": {
            "text/plain": [
              "1.1682411496882599"
            ]
          },
          "metadata": {},
          "execution_count": 11
        }
      ]
    },
    {
      "cell_type": "markdown",
      "source": [
        "**X_3**"
      ],
      "metadata": {
        "id": "me4bsCSjWzlY"
      }
    },
    {
      "cell_type": "code",
      "source": [
        "X_3 = np.divide(income_statement.ebit,\n",
        "                balance_sheet.totalAssets)\n",
        "X_3.sort_values(axis=0, ascending=True, inplace=True)\n",
        "X_3 = X_3.iloc[0,]\n",
        "X_3"
      ],
      "metadata": {
        "colab": {
          "base_uri": "https://localhost:8080/"
        },
        "id": "M-b1sMbwPQ_R",
        "outputId": "146115ff-0a81-44cd-9c6a-578dbf2aad10"
      },
      "execution_count": 12,
      "outputs": [
        {
          "output_type": "execute_result",
          "data": {
            "text/plain": [
              "0.04229513412777176"
            ]
          },
          "metadata": {},
          "execution_count": 12
        }
      ]
    },
    {
      "cell_type": "markdown",
      "source": [
        "**X_4**\n"
      ],
      "metadata": {
        "id": "loWPgntoeKQ2"
      }
    },
    {
      "cell_type": "code",
      "source": [
        "information = search_result.retrieve_information()\n",
        "information = pd.DataFrame.from_dict(information, orient='index')\n",
        "market_cap = information.loc['marketCap',]\n",
        "market_cap = market_cap.astype(float)\n",
        "market_cap"
      ],
      "metadata": {
        "colab": {
          "base_uri": "https://localhost:8080/"
        },
        "id": "RGUufcP8rRhc",
        "outputId": "ef171350-f7ea-4e91-9d54-094d22f84a29"
      },
      "execution_count": 13,
      "outputs": [
        {
          "output_type": "execute_result",
          "data": {
            "text/plain": [
              "0    1.115200e+11\n",
              "Name: marketCap, dtype: float64"
            ]
          },
          "metadata": {},
          "execution_count": 13
        }
      ]
    },
    {
      "cell_type": "code",
      "source": [
        " X_4 = np.divide(market_cap, balance_sheet.totalLiab.iloc[0,])\n",
        " X_4"
      ],
      "metadata": {
        "colab": {
          "base_uri": "https://localhost:8080/"
        },
        "id": "MjeGDfuiSq26",
        "outputId": "1794a9b8-83c8-4686-b846-7f1089a230c0"
      },
      "execution_count": 14,
      "outputs": [
        {
          "output_type": "execute_result",
          "data": {
            "text/plain": [
              "0    0.986859\n",
              "Name: marketCap, dtype: float64"
            ]
          },
          "metadata": {},
          "execution_count": 14
        }
      ]
    },
    {
      "cell_type": "markdown",
      "source": [
        "#**X_5**\n"
      ],
      "metadata": {
        "id": "nFN-Ka-8qHEX"
      }
    },
    {
      "cell_type": "code",
      "source": [
        "X_5 = np.divide(income_statement.totalRevenue, balance_sheet.totalAssets)\n",
        "X_5.sort_values(axis=0, ascending=True, inplace=True)\n",
        "X_5 = X_5.iloc[0,]\n",
        "X_5"
      ],
      "metadata": {
        "colab": {
          "base_uri": "https://localhost:8080/"
        },
        "id": "Q4RbfBzCqK-U",
        "outputId": "a8a6d261-cd00-4a47-8474-31b0f339a50d"
      },
      "execution_count": 15,
      "outputs": [
        {
          "output_type": "execute_result",
          "data": {
            "text/plain": [
              "0.43446640555753363"
            ]
          },
          "metadata": {},
          "execution_count": 15
        }
      ]
    },
    {
      "cell_type": "markdown",
      "source": [
        "# **Z_Score**"
      ],
      "metadata": {
        "id": "DK7ufbuY0JaX"
      }
    },
    {
      "cell_type": "code",
      "source": [
        "Z_score = 1.2*X_1 + 1.4*X_2 + 3.3*X_3 + .6*X_4 + .99*X_5\n",
        "print('Altman Z-Score =', Z_score.values)"
      ],
      "metadata": {
        "colab": {
          "base_uri": "https://localhost:8080/"
        },
        "id": "nLWTYkLJ0bHm",
        "outputId": "3ade2839-cbd9-4ecb-a2cc-af8b739ec21b"
      },
      "execution_count": 20,
      "outputs": [
        {
          "output_type": "stream",
          "name": "stdout",
          "text": [
            "Altman Z-Score = [2.76025806]\n"
          ]
        }
      ]
    },
    {
      "cell_type": "code",
      "source": [
        "if Z_score.values <= 1.8 :\n",
        "  print('Distress Zone =', Z_score.values)  \n",
        "elif Z_score.values >= 3:\n",
        "  print('Safe Zone =', Z_score.values)\n",
        "else:\n",
        "  print('Grey Zone =', Z_score.values)"
      ],
      "metadata": {
        "colab": {
          "base_uri": "https://localhost:8080/"
        },
        "id": "POIjfDaViRcG",
        "outputId": "f7c55736-12aa-4e0b-8052-05f00df7c33e"
      },
      "execution_count": 17,
      "outputs": [
        {
          "output_type": "stream",
          "name": "stdout",
          "text": [
            "Grey Zone = [2.76025806]\n"
          ]
        }
      ]
    },
    {
      "cell_type": "markdown",
      "source": [
        "![imagen_2022-02-03_162550.png](data:image/png;base64,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)"
      ],
      "metadata": {
        "id": "p4_tSXrCsYHp"
      }
    }
  ]
}